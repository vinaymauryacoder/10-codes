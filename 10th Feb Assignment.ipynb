{
 "cells": [
  {
   "cell_type": "code",
   "execution_count": null,
   "id": "66dbcd8d",
   "metadata": {},
   "outputs": [],
   "source": [
    "Q1. Which function is used to open a file? What are the different modes of opening a file? Explain each mode\n",
    "of file opening."
   ]
  },
  {
   "cell_type": "code",
   "execution_count": null,
   "id": "1e8e555e",
   "metadata": {},
   "outputs": [],
   "source": [
    "In Python, the open() function is used to open a file. It returns a file object that allows you to read,\n",
    "write, or append to the file."
   ]
  },
  {
   "cell_type": "code",
   "execution_count": null,
   "id": "899f9044",
   "metadata": {},
   "outputs": [],
   "source": [
    "# read mode\n",
    "file = open(\"file.txt\", \"r\")\n",
    "\n",
    "# write mode\n",
    "file = open(\"file.txt\", \"w\")\n",
    "\n",
    "# append mode\n",
    "file = open(\"file.txt\", \"a\")\n",
    "\n",
    "# exclusive creation mode\n",
    "file = open(\"file.txt\", \"x\")\n",
    "\n",
    "# binary mode\n",
    "file = open(\"file.bin\", \"rb\")\n",
    "\n",
    "# text mode\n",
    "file = open(\"file.txt\", \"rt\")\n",
    "\n",
    "# update mode\n",
    "file = open(\"file.txt\", \"r+\")\n"
   ]
  },
  {
   "cell_type": "code",
   "execution_count": null,
   "id": "022f7d17",
   "metadata": {},
   "outputs": [],
   "source": [
    "Q2. Why close() function is used? Why is it important to close a file?"
   ]
  },
  {
   "cell_type": "code",
   "execution_count": null,
   "id": "6578a0ec",
   "metadata": {},
   "outputs": [],
   "source": [
    "~ the close() function is used to close a file. When you are finished working with a file, it is important to close it to free\n",
    "up system resources and to make sure that all the data you have written to the file is properly saved. If you do not close\n",
    "the file, the data you have written to it may not be saved, and other programs may not be able to access the file until your \n",
    "program releases it.\n",
    "\n",
    "file = open(\"file.txt\", \"w\")\n",
    "file.write(\"This is some text that will be written to the file.\")\n",
    "file.close()\n",
    "\n",
    "\n",
    "\n",
    "~ it is important to always call the close() function on a file object when you are finished working with the file to ensure\n",
    "    that the data you have written to the file is properly saved and to free up system resources."
   ]
  },
  {
   "cell_type": "code",
   "execution_count": null,
   "id": "b04fda86",
   "metadata": {},
   "outputs": [],
   "source": [
    "\n",
    "Q3. Write a python program to create a text file. Write ‘I want to become a Data Scientist’ in that file. Then\n",
    "close the file. Open this file and read the content of the file."
   ]
  },
  {
   "cell_type": "code",
   "execution_count": null,
   "id": "274e37a3",
   "metadata": {},
   "outputs": [],
   "source": [
    "# Open the file in write mode\n",
    "file = open(\"data_scientist.txt\", \"w\")\n",
    "\n",
    "# Write the text to the file\n",
    "file.write(\"I want to become a Data Scientist\")\n",
    "\n",
    "# Close the file\n",
    "file.close()\n",
    "\n",
    "# Open the file in read mode\n",
    "file = open(\"data_scientist.txt\", \"r\")\n",
    "\n",
    "# Read the content of the file\n",
    "content = file.read()\n",
    "\n",
    "# Print the content of the file\n",
    "print(content)\n",
    "\n",
    "# Close the file\n",
    "file.close()\n"
   ]
  },
  {
   "cell_type": "code",
   "execution_count": null,
   "id": "85527b09",
   "metadata": {},
   "outputs": [],
   "source": [
    "Q4. Explain the following with python code: read(), readline() and readlines()."
   ]
  },
  {
   "cell_type": "code",
   "execution_count": null,
   "id": "88461725",
   "metadata": {},
   "outputs": [],
   "source": [
    "# Open the file in read mode\n",
    "file = open(\"data.txt\", \"r\")\n",
    "\n",
    "# Read the entire contents of the file\n",
    "content = file.read()\n",
    "\n",
    "# Print the content of the file\n",
    "print(content)\n",
    "\n",
    "# Close the file\n",
    "file.close()\n"
   ]
  },
  {
   "cell_type": "code",
   "execution_count": null,
   "id": "13f3bf1e",
   "metadata": {},
   "outputs": [],
   "source": [
    "The read() function reads the entire contents of the file \"data.txt\" as a string, and stores it in the variable content. \n",
    "The print() function is used to print the contents of the file to the console. Finally, the close() function is used to close \n",
    "the file."
   ]
  },
  {
   "cell_type": "code",
   "execution_count": null,
   "id": "e6b86814",
   "metadata": {},
   "outputs": [],
   "source": [
    "# Open the file in read mode\n",
    "file = open(\"data.txt\", \"r\")\n",
    "\n",
    "# Read the first line of the file\n",
    "line = file.readline()\n",
    "\n",
    "# Print the line\n",
    "print(line)\n",
    "\n",
    "# Close the file\n",
    "file.close()\n"
   ]
  },
  {
   "cell_type": "code",
   "execution_count": null,
   "id": "04d2dc31",
   "metadata": {},
   "outputs": [],
   "source": [
    " The readline() function reads the first line of the file \"data.txt\" and stores it in the variable line. The print() function \n",
    "    is used to print the line to the console. Finally, the close() function is used to close the file."
   ]
  },
  {
   "cell_type": "code",
   "execution_count": null,
   "id": "a6665ac6",
   "metadata": {},
   "outputs": [],
   "source": [
    "# Open the file in read mode\n",
    "file = open(\"data.txt\", \"r\")\n",
    "\n",
    "# Read all the lines of the file\n",
    "lines = file.readlines()\n",
    "\n",
    "# Print the lines\n",
    "for line in lines:\n",
    "    print(line)\n",
    "\n",
    "# Close the file\n",
    "file.close()\n"
   ]
  },
  {
   "cell_type": "code",
   "execution_count": null,
   "id": "cb154548",
   "metadata": {},
   "outputs": [],
   "source": [
    " The readlines() function reads all the lines of the file \"data.txt\" and stores them in the variable lines as a list of strings.\n",
    "    The for loop is used to print each line to the console. Finally, the close() function is used to close the file."
   ]
  },
  {
   "cell_type": "code",
   "execution_count": null,
   "id": "b8457d1a",
   "metadata": {},
   "outputs": [],
   "source": [
    "Q5. Explain why with statement is used with open(). What is the advantage of using with statement and\n",
    "open() together?"
   ]
  },
  {
   "cell_type": "code",
   "execution_count": null,
   "id": "478cd27a",
   "metadata": {},
   "outputs": [],
   "source": [
    "The with statement in Python provides a way to execute a block of code in a controlled environment, where resources are properly\n",
    "managed and cleaned up automatically."
   ]
  },
  {
   "cell_type": "code",
   "execution_count": null,
   "id": "1cbf5c3a",
   "metadata": {},
   "outputs": [],
   "source": [
    "with open('example.txt', 'r') as file:\n",
    "    data = file.read()\n",
    "    print(data)\n"
   ]
  },
  {
   "cell_type": "code",
   "execution_count": null,
   "id": "7a95911d",
   "metadata": {},
   "outputs": [],
   "source": [
    "The open() function is used to open a file and returns a file object, which can then be used to read or write data to the file.\n",
    "When using open(), it is important to remember to close the file when you are done with it, to avoid wasting system resources\n",
    "and causing file corruption.\n",
    "\n",
    "The advantage of using the with statement and open() together is that the file is automatically closed at the end of the with \n",
    "block, even if an error occurs while executing the code within the block. This ensures that the file is properly closed, and \n",
    "any data that was buffered in memory is written to the file before it is closed."
   ]
  },
  {
   "cell_type": "code",
   "execution_count": null,
   "id": "24e1ed56",
   "metadata": {},
   "outputs": [],
   "source": [
    "Q6. Explain the write() and writelines() functions. Give a suitable example."
   ]
  },
  {
   "cell_type": "code",
   "execution_count": null,
   "id": "bd580223",
   "metadata": {},
   "outputs": [],
   "source": [
    "The write() function is used to write a single string to the file, and it returns the number of characters written. If you\n",
    "call write() multiple times with different strings, the strings will be concatenated and written to the file as a single stream\n",
    "of data."
   ]
  },
  {
   "cell_type": "code",
   "execution_count": null,
   "id": "c9809a0d",
   "metadata": {},
   "outputs": [],
   "source": [
    "with open('example.txt', 'w') as file:\n",
    "    file.write('Hello, world!')\n"
   ]
  },
  {
   "cell_type": "code",
   "execution_count": null,
   "id": "851471cf",
   "metadata": {},
   "outputs": [],
   "source": [
    "The writelines() function is used to write a sequence of strings to a file. It takes a list of strings as input, and writes\n",
    "each string to the file on a separate line. This function does not add any extra characters like newlines or spaces between\n",
    "the strings."
   ]
  },
  {
   "cell_type": "code",
   "execution_count": 1,
   "id": "52fd7da8",
   "metadata": {},
   "outputs": [],
   "source": [
    "with open('example.txt', 'w') as file:\n",
    "    lines = ['apple\\n', 'banana\\n', 'cherry\\n']\n",
    "    file.writelines(lines)\n"
   ]
  },
  {
   "cell_type": "code",
   "execution_count": null,
   "id": "e74ed4cd",
   "metadata": {},
   "outputs": [],
   "source": []
  },
  {
   "cell_type": "code",
   "execution_count": null,
   "id": "9df9f812",
   "metadata": {},
   "outputs": [],
   "source": []
  }
 ],
 "metadata": {
  "kernelspec": {
   "display_name": "Python 3 (ipykernel)",
   "language": "python",
   "name": "python3"
  },
  "language_info": {
   "codemirror_mode": {
    "name": "ipython",
    "version": 3
   },
   "file_extension": ".py",
   "mimetype": "text/x-python",
   "name": "python",
   "nbconvert_exporter": "python",
   "pygments_lexer": "ipython3",
   "version": "3.9.13"
  }
 },
 "nbformat": 4,
 "nbformat_minor": 5
}
